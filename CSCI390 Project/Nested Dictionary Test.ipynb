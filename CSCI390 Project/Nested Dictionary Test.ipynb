{
 "cells": [
  {
   "cell_type": "code",
   "execution_count": 4,
   "metadata": {},
   "outputs": [],
   "source": [
    "#Jacob Ballou\n",
    "#Csci 390\n",
    "#Proof of concept for the nested dictionary structure\n",
    "import nltk\n",
    "def main():\n",
    "    #create nested dictionary- this one contains words instead of rules, but the principle is the same.\n",
    "    nDict = {\"nominative\": {\"singular\":\"Cirya\",\"plural\":\"Ciryar\"}, \"genitive\":{\"singular\":\"Ciryo\",\"plural\":\"Ciryaron\"}}\n",
    "    print(nDict)"
   ]
  },
  {
   "cell_type": "code",
   "execution_count": null,
   "metadata": {},
   "outputs": [],
   "source": []
  }
 ],
 "metadata": {
  "kernelspec": {
   "display_name": "Python 3",
   "language": "python",
   "name": "python3"
  },
  "language_info": {
   "codemirror_mode": {
    "name": "ipython",
    "version": 3
   },
   "file_extension": ".py",
   "mimetype": "text/x-python",
   "name": "python",
   "nbconvert_exporter": "python",
   "pygments_lexer": "ipython3",
   "version": "3.8.3"
  }
 },
 "nbformat": 4,
 "nbformat_minor": 4
}
